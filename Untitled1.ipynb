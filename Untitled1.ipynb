{
 "cells": [
  {
   "cell_type": "code",
   "execution_count": null,
   "metadata": {},
   "outputs": [],
   "source": [
    "routing_table = {}"
   ]
  },
  {
   "cell_type": "code",
   "execution_count": null,
   "metadata": {},
   "outputs": [],
   "source": [
    "def add_ve(ip, weight, routing_table):\n",
    "    routing_table[ip] = weight\n",
    "    return routing_table"
   ]
  },
  {
   "cell_type": "code",
   "execution_count": null,
   "metadata": {},
   "outputs": [],
   "source": [
    "def del_ve(ip, routing_table):\n",
    "    return routing_table.pop(ip)"
   ]
  },
  {
   "cell_type": "code",
   "execution_count": null,
   "metadata": {},
   "outputs": [],
   "source": [
    "add_ve('1.1.1.1', 10, routing_table)\n",
    "add_ve('1.1.1.2', 11, routing_table)\n",
    "print(routing_table)"
   ]
  },
  {
   "cell_type": "code",
   "execution_count": null,
   "metadata": {},
   "outputs": [],
   "source": [
    "del_ve('1.1.1.1', routing_table)\n",
    "print(routing_table)"
   ]
  },
  {
   "cell_type": "code",
   "execution_count": null,
   "metadata": {},
   "outputs": [],
   "source": [
    "def read_file(file_name, routing_table):\n",
    "    with open(file_name, \"r\") as f:\n",
    "        lines = f.readlines()\n",
    "        for line in lines:\n",
    "            command = line.replace('\\n', '')\n",
    "            commands = command.split(\" \")\n",
    "            print(commands)\n",
    "            if commands[0] != 'add':\n",
    "                print(\"Inavlid command was read in startup file:\", commands[0])\n",
    "            if len(commands) != 3:\n",
    "                print(\"Inavlid format was read in startup file:\", commands)\n",
    "            else:\n",
    "                add_ve(commands[1], commands[2], routing_table)"
   ]
  },
  {
   "cell_type": "code",
   "execution_count": null,
   "metadata": {},
   "outputs": [],
   "source": [
    "read_file('startup.txt', routing_table)\n",
    "print(routing_table)"
   ]
  },
  {
   "cell_type": "code",
   "execution_count": null,
   "metadata": {},
   "outputs": [],
   "source": [
    "import json\n",
    "def encode_message(type, source, destination, last_info):\n",
    "\tif type is 'data':\n",
    "\t\treturn json.dumps({'type': type, 'source': source, 'destination': destination, 'payload': last_info})\n",
    "\telif type is 'update':\n",
    "\t\treturn json.dumps({'type': type, 'source': source, 'destination': destination, 'distances': last_info})\n",
    "\telif type is 'trace':\n",
    "\t\treturn json.dumps({'type': type, 'source': source, 'destination': destination, 'hops': last_info})"
   ]
  },
  {
   "cell_type": "code",
   "execution_count": null,
   "metadata": {},
   "outputs": [],
   "source": [
    "import json\n",
    "import pprint\n",
    "def decode_message(message):\n",
    "\tdata = json.loads(message)\n",
    "\t# Prints if it's data type message\n",
    "\tif data[\"type\"] is 'data':\n",
    "\t\tpprint(data)\n",
    "\treturn data"
   ]
  },
  {
   "cell_type": "code",
   "execution_count": null,
   "metadata": {
    "scrolled": true
   },
   "outputs": [],
   "source": [
    "json_msg = encode_message('data', '1.1.1.1', '1.1.1.2', \"{\\\"destination\\\": \\\"127.0.1.2\\\", \\\"type\\\":\\\"trace\\\", ...}\")\n",
    "print(json_msg)"
   ]
  },
  {
   "cell_type": "code",
   "execution_count": null,
   "metadata": {
    "scrolled": true
   },
   "outputs": [],
   "source": [
    "decode_message(json_msg)"
   ]
  },
  {
   "cell_type": "code",
   "execution_count": null,
   "metadata": {
    "scrolled": true
   },
   "outputs": [],
   "source": [
    "distances = {}\n",
    "distances[\"127.0.1.4\"] = 10\n",
    "distances[\"127.0.1.5\"] = 0\n",
    "distances[\"127.0.1.2\"] = 10\n",
    "distances[\"127.0.1.3\"] = 10\n",
    "json_msg = encode_message('update', '1.1.1.1', '1.1.1.2', distances)\n",
    "print(json_msg)"
   ]
  },
  {
   "cell_type": "code",
   "execution_count": null,
   "metadata": {
    "scrolled": true
   },
   "outputs": [],
   "source": [
    "decode_message(json_msg)"
   ]
  },
  {
   "cell_type": "code",
   "execution_count": null,
   "metadata": {},
   "outputs": [],
   "source": [
    "import socket\n",
    "PORT = 55151"
   ]
  },
  {
   "cell_type": "code",
   "execution_count": null,
   "metadata": {},
   "outputs": [],
   "source": [
    "def start_listening(PORT):\n",
    "\tudp = socket.socket(socket.AF_INET, socket.SOCK_DGRAM)\n",
    "\torig = ('', int(PORT))\n",
    "\tudp.bind(orig)\n",
    "\twhile True:\n",
    "\t\tmessage, client = udp.recvfrom(1024)\n",
    "\n",
    "\tudp.close()"
   ]
  },
  {
   "cell_type": "code",
   "execution_count": null,
   "metadata": {},
   "outputs": [],
   "source": [
    "def send_message(HOST, PORT, message):\n",
    "    udp = socket.socket(socket.AF_INET, socket.SOCK_DGRAM)\n",
    "    dest = (HOST, int(PORT))\n",
    "    udp.sendto(message, dest)\n",
    "    udp.close()"
   ]
  },
  {
   "cell_type": "code",
   "execution_count": null,
   "metadata": {},
   "outputs": [],
   "source": [
    "start_listening(PORT)"
   ]
  },
  {
   "cell_type": "code",
   "execution_count": null,
   "metadata": {},
   "outputs": [],
   "source": [
    "send_message('127.0.0.1', PORT, \"teste\")"
   ]
  },
  {
   "cell_type": "code",
   "execution_count": 8,
   "metadata": {},
   "outputs": [],
   "source": [
    "from collections import namedtuple\n",
    "import time\n",
    "RouteRow = namedtuple('RouteRow', 'destination nextHop cost ttl')"
   ]
  },
  {
   "cell_type": "code",
   "execution_count": 9,
   "metadata": {},
   "outputs": [],
   "source": [
    "routes = []"
   ]
  },
  {
   "cell_type": "code",
   "execution_count": 10,
   "metadata": {},
   "outputs": [],
   "source": [
    "routes.append(RouteRow('1.1.1.1', '1.1.1.2', 10, time.time()))"
   ]
  },
  {
   "cell_type": "code",
   "execution_count": 11,
   "metadata": {},
   "outputs": [
    {
     "data": {
      "text/plain": [
       "[RouteRow(destination='1.1.1.1', nextHop='1.1.1.2', cost=10, ttl=1527717578.3170872)]"
      ]
     },
     "execution_count": 11,
     "metadata": {},
     "output_type": "execute_result"
    }
   ],
   "source": [
    "routes"
   ]
  },
  {
   "cell_type": "code",
   "execution_count": 12,
   "metadata": {},
   "outputs": [],
   "source": [
    "def del_ve(ip, routing_table):\n",
    "    for route in routing_table:\n",
    "        if ip == route.destination :\n",
    "            routes.remove(route)\n",
    "    return routes"
   ]
  },
  {
   "cell_type": "code",
   "execution_count": 13,
   "metadata": {},
   "outputs": [
    {
     "name": "stdout",
     "output_type": "stream",
     "text": [
      "[]\n"
     ]
    }
   ],
   "source": [
    "routes=del_ve('1.1.1.1', routes)\n",
    "print(routes)"
   ]
  },
  {
   "cell_type": "code",
   "execution_count": 5,
   "metadata": {},
   "outputs": [
    {
     "name": "stdout",
     "output_type": "stream",
     "text": [
      "[RouteRow(destination='1.1.1.1', nextHop='1.1.1.2', cost=10, ttl=1527631237.0749302)]\n",
      "1527631257.0749302\n",
      "1527631259.366525\n",
      "[]\n"
     ]
    }
   ],
   "source": [
    "PERIOD = 5.0\n",
    "from threading import Timer\n",
    "import threading\n",
    "print(routes)\n",
    "def update_routes():\n",
    "    threading.Timer(PERIOD, update_routes).start()\n",
    "    for route in routes:\n",
    "        if time.time() > route.ttl + 4*PERIOD :\n",
    "            print(route.ttl + 4*PERIOD)\n",
    "            print(time.time())\n",
    "            routes.remove(route)\n",
    "            print(routes)\n",
    "    \n",
    "    \n",
    "\n",
    "update_routes()"
   ]
  },
  {
   "cell_type": "code",
   "execution_count": 27,
   "metadata": {},
   "outputs": [],
   "source": [
    "import random as ra\n",
    "def load_balance(tied_routes):\n",
    "    a = 1\n",
    "    b = len(tied_routes)+1\n",
    "    chosen = ra.uniform(a,b)\n",
    "    print(chosen)\n",
    "    chosen = int(chosen)\n",
    "    print(chosen)\n",
    "    return tied_routes[chosen-1]\n",
    "\n",
    "    \n",
    "    \n"
   ]
  },
  {
   "cell_type": "code",
   "execution_count": 28,
   "metadata": {},
   "outputs": [],
   "source": [
    "tied_routes = ['1.1.1.1', '1.1.1.2', '1.1.1.3']"
   ]
  },
  {
   "cell_type": "code",
   "execution_count": 29,
   "metadata": {},
   "outputs": [
    {
     "name": "stdout",
     "output_type": "stream",
     "text": [
      "1.4326479033848787\n",
      "1\n"
     ]
    },
    {
     "data": {
      "text/plain": [
       "'1.1.1.1'"
      ]
     },
     "execution_count": 29,
     "metadata": {},
     "output_type": "execute_result"
    }
   ],
   "source": [
    "load_balance(tied_routes)"
   ]
  },
  {
   "cell_type": "code",
   "execution_count": 30,
   "metadata": {},
   "outputs": [
    {
     "name": "stdout",
     "output_type": "stream",
     "text": [
      "1.0208546258203577\n",
      "1\n"
     ]
    },
    {
     "data": {
      "text/plain": [
       "'1.1.1.1'"
      ]
     },
     "execution_count": 30,
     "metadata": {},
     "output_type": "execute_result"
    }
   ],
   "source": [
    "load_balance(tied_routes)"
   ]
  },
  {
   "cell_type": "code",
   "execution_count": 31,
   "metadata": {},
   "outputs": [
    {
     "name": "stdout",
     "output_type": "stream",
     "text": [
      "2.27090165833932\n",
      "2\n"
     ]
    },
    {
     "data": {
      "text/plain": [
       "'1.1.1.2'"
      ]
     },
     "execution_count": 31,
     "metadata": {},
     "output_type": "execute_result"
    }
   ],
   "source": [
    "load_balance(tied_routes)"
   ]
  },
  {
   "cell_type": "code",
   "execution_count": 32,
   "metadata": {},
   "outputs": [
    {
     "name": "stdout",
     "output_type": "stream",
     "text": [
      "2.87842491866942\n",
      "2\n"
     ]
    },
    {
     "data": {
      "text/plain": [
       "'1.1.1.2'"
      ]
     },
     "execution_count": 32,
     "metadata": {},
     "output_type": "execute_result"
    }
   ],
   "source": [
    "load_balance(tied_routes)"
   ]
  },
  {
   "cell_type": "code",
   "execution_count": 33,
   "metadata": {},
   "outputs": [
    {
     "name": "stdout",
     "output_type": "stream",
     "text": [
      "2.4286789841506438\n",
      "2\n"
     ]
    },
    {
     "data": {
      "text/plain": [
       "'1.1.1.2'"
      ]
     },
     "execution_count": 33,
     "metadata": {},
     "output_type": "execute_result"
    }
   ],
   "source": [
    "load_balance(tied_routes)"
   ]
  },
  {
   "cell_type": "code",
   "execution_count": 34,
   "metadata": {},
   "outputs": [
    {
     "name": "stdout",
     "output_type": "stream",
     "text": [
      "2.342777833673077\n",
      "2\n"
     ]
    },
    {
     "data": {
      "text/plain": [
       "'1.1.1.2'"
      ]
     },
     "execution_count": 34,
     "metadata": {},
     "output_type": "execute_result"
    }
   ],
   "source": [
    "load_balance(tied_routes)"
   ]
  },
  {
   "cell_type": "code",
   "execution_count": 35,
   "metadata": {},
   "outputs": [
    {
     "name": "stdout",
     "output_type": "stream",
     "text": [
      "2.1789484966886628\n",
      "2\n"
     ]
    },
    {
     "data": {
      "text/plain": [
       "'1.1.1.2'"
      ]
     },
     "execution_count": 35,
     "metadata": {},
     "output_type": "execute_result"
    }
   ],
   "source": [
    "load_balance(tied_routes)"
   ]
  },
  {
   "cell_type": "code",
   "execution_count": 23,
   "metadata": {},
   "outputs": [
    {
     "name": "stdout",
     "output_type": "stream",
     "text": [
      "1.6543323464125508\n",
      "1\n"
     ]
    },
    {
     "data": {
      "text/plain": [
       "'1.1.1.2'"
      ]
     },
     "execution_count": 23,
     "metadata": {},
     "output_type": "execute_result"
    }
   ],
   "source": [
    "load_balance(tied_routes)"
   ]
  },
  {
   "cell_type": "code",
   "execution_count": 24,
   "metadata": {},
   "outputs": [
    {
     "name": "stdout",
     "output_type": "stream",
     "text": [
      "1.5649514990909759\n",
      "1\n"
     ]
    },
    {
     "data": {
      "text/plain": [
       "'1.1.1.2'"
      ]
     },
     "execution_count": 24,
     "metadata": {},
     "output_type": "execute_result"
    }
   ],
   "source": [
    "load_balance(tied_routes)"
   ]
  },
  {
   "cell_type": "code",
   "execution_count": 25,
   "metadata": {},
   "outputs": [
    {
     "name": "stdout",
     "output_type": "stream",
     "text": [
      "1.2713594811955207\n",
      "1\n"
     ]
    },
    {
     "data": {
      "text/plain": [
       "'1.1.1.2'"
      ]
     },
     "execution_count": 25,
     "metadata": {},
     "output_type": "execute_result"
    }
   ],
   "source": [
    "load_balance(tied_routes)"
   ]
  },
  {
   "cell_type": "code",
   "execution_count": 26,
   "metadata": {},
   "outputs": [
    {
     "data": {
      "text/plain": [
       "3"
      ]
     },
     "execution_count": 26,
     "metadata": {},
     "output_type": "execute_result"
    }
   ],
   "source": [
    "len(tied_routes)"
   ]
  },
  {
   "cell_type": "code",
   "execution_count": null,
   "metadata": {},
   "outputs": [],
   "source": []
  }
 ],
 "metadata": {
  "kernelspec": {
   "display_name": "Python [conda env:redesP3]",
   "language": "python",
   "name": "conda-env-redesP3-py"
  },
  "language_info": {
   "codemirror_mode": {
    "name": "ipython",
    "version": 3
   },
   "file_extension": ".py",
   "mimetype": "text/x-python",
   "name": "python",
   "nbconvert_exporter": "python",
   "pygments_lexer": "ipython3",
   "version": "3.6.4"
  }
 },
 "nbformat": 4,
 "nbformat_minor": 2
}
