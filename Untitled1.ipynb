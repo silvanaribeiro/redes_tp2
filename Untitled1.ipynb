{
 "cells": [
  {
   "cell_type": "code",
   "execution_count": 21,
   "metadata": {},
   "outputs": [],
   "source": [
    "routing_table = {}"
   ]
  },
  {
   "cell_type": "code",
   "execution_count": 7,
   "metadata": {},
   "outputs": [],
   "source": [
    "def add_ve(ip, weight, routing_table):\n",
    "    routing_table[ip] = weight\n",
    "    return routing_table"
   ]
  },
  {
   "cell_type": "code",
   "execution_count": 8,
   "metadata": {},
   "outputs": [],
   "source": [
    "def del_ve(ip, routing_table):\n",
    "    return routing_table.pop(ip)"
   ]
  },
  {
   "cell_type": "code",
   "execution_count": 10,
   "metadata": {},
   "outputs": [
    {
     "name": "stdout",
     "output_type": "stream",
     "text": [
      "{'1.1.1.1': 10, '1.1.1.2': 11}\n"
     ]
    }
   ],
   "source": [
    "add_ve('1.1.1.1', 10, routing_table)\n",
    "add_ve('1.1.1.2', 11, routing_table)\n",
    "print(routing_table)"
   ]
  },
  {
   "cell_type": "code",
   "execution_count": 11,
   "metadata": {},
   "outputs": [
    {
     "name": "stdout",
     "output_type": "stream",
     "text": [
      "{'1.1.1.2': 11}\n"
     ]
    }
   ],
   "source": [
    "del_ve('1.1.1.1', routing_table)\n",
    "print(routing_table)"
   ]
  },
  {
   "cell_type": "code",
   "execution_count": 36,
   "metadata": {},
   "outputs": [],
   "source": [
    "def read_file(file_name, routing_table):\n",
    "    with open(file_name, \"r\") as f:\n",
    "        lines = f.readlines()\n",
    "        for line in lines:\n",
    "            command = line.replace('\\n', '')\n",
    "            commands = command.split(\" \")\n",
    "            print(commands)\n",
    "            if commands[0] != 'add':\n",
    "                print(\"Inavlid command was read in startup file:\", commands[0])\n",
    "            if len(commands) != 3:\n",
    "                print(\"Inavlid format was read in startup file:\", commands)\n",
    "            else:\n",
    "                add_ve(commands[1], commands[2], routing_table)"
   ]
  },
  {
   "cell_type": "code",
   "execution_count": 37,
   "metadata": {},
   "outputs": [
    {
     "name": "stdout",
     "output_type": "stream",
     "text": [
      "['add', \"'1.1.1.1'\", '10']\n",
      "['add', \"'1.1.1.3'\", '11']\n",
      "['add', \"'1.1.1.4'\", '12']\n",
      "{\"'1.1.1.1'\": '10', \"'1.1.1.3'\": '11', \"'1.1.1.4'\": '12'}\n"
     ]
    }
   ],
   "source": [
    "read_file('startup.txt', routing_table)\n",
    "print(routing_table)"
   ]
  },
  {
   "cell_type": "code",
   "execution_count": 1,
   "metadata": {},
   "outputs": [],
   "source": [
    "import json\n",
    "def encode_message(type, source, destination, last_info):\n",
    "\tif type is 'data':\n",
    "\t\treturn json.dumps({'type': type, 'source': source, 'destination': destination, 'payload': last_info})\n",
    "\telif type is 'update':\n",
    "\t\treturn json.dumps({'type': type, 'source': source, 'destination': destination, 'distances': last_info})\n",
    "\telif type is 'trace':\n",
    "\t\treturn json.dumps({'type': type, 'source': source, 'destination': destination, 'hops': last_info})"
   ]
  },
  {
   "cell_type": "code",
   "execution_count": 2,
   "metadata": {},
   "outputs": [],
   "source": [
    "import json\n",
    "import pprint\n",
    "def decode_message(message):\n",
    "\tdata = json.loads(message)\n",
    "\t# Prints if it's data type message\n",
    "\tif data[\"type\"] is 'data':\n",
    "\t\tpprint(data)\n",
    "\treturn data"
   ]
  },
  {
   "cell_type": "code",
   "execution_count": 3,
   "metadata": {
    "scrolled": true
   },
   "outputs": [
    {
     "name": "stdout",
     "output_type": "stream",
     "text": [
      "{\"type\": \"data\", \"source\": \"1.1.1.1\", \"destination\": \"1.1.1.2\", \"payload\": \"{\\\"destination\\\": \\\"127.0.1.2\\\", \\\"type\\\":\\\"trace\\\", ...}\"}\n"
     ]
    }
   ],
   "source": [
    "json_msg = encode_message('data', '1.1.1.1', '1.1.1.2', \"{\\\"destination\\\": \\\"127.0.1.2\\\", \\\"type\\\":\\\"trace\\\", ...}\")\n",
    "print(json_msg)"
   ]
  },
  {
   "cell_type": "code",
   "execution_count": 4,
   "metadata": {
    "scrolled": true
   },
   "outputs": [
    {
     "data": {
      "text/plain": [
       "{'destination': '1.1.1.2',\n",
       " 'payload': '{\"destination\": \"127.0.1.2\", \"type\":\"trace\", ...}',\n",
       " 'source': '1.1.1.1',\n",
       " 'type': 'data'}"
      ]
     },
     "execution_count": 4,
     "metadata": {},
     "output_type": "execute_result"
    }
   ],
   "source": [
    "decode_message(json_msg)"
   ]
  },
  {
   "cell_type": "code",
   "execution_count": 5,
   "metadata": {
    "scrolled": true
   },
   "outputs": [
    {
     "name": "stdout",
     "output_type": "stream",
     "text": [
      "{\"type\": \"update\", \"source\": \"1.1.1.1\", \"destination\": \"1.1.1.2\", \"distances\": {\"127.0.1.4\": 10, \"127.0.1.5\": 0, \"127.0.1.2\": 10, \"127.0.1.3\": 10}}\n"
     ]
    }
   ],
   "source": [
    "distances = {}\n",
    "distances[\"127.0.1.4\"] = 10\n",
    "distances[\"127.0.1.5\"] = 0\n",
    "distances[\"127.0.1.2\"] = 10\n",
    "distances[\"127.0.1.3\"] = 10\n",
    "json_msg = encode_message('update', '1.1.1.1', '1.1.1.2', distances)\n",
    "print(json_msg)"
   ]
  },
  {
   "cell_type": "code",
   "execution_count": 6,
   "metadata": {
    "scrolled": true
   },
   "outputs": [
    {
     "data": {
      "text/plain": [
       "{'destination': '1.1.1.2',\n",
       " 'distances': {'127.0.1.2': 10,\n",
       "  '127.0.1.3': 10,\n",
       "  '127.0.1.4': 10,\n",
       "  '127.0.1.5': 0},\n",
       " 'source': '1.1.1.1',\n",
       " 'type': 'update'}"
      ]
     },
     "execution_count": 6,
     "metadata": {},
     "output_type": "execute_result"
    }
   ],
   "source": [
    "decode_message(json_msg)"
   ]
  },
  {
   "cell_type": "code",
   "execution_count": 7,
   "metadata": {},
   "outputs": [],
   "source": [
    "import socket\n",
    "PORT = 55151"
   ]
  },
  {
   "cell_type": "code",
   "execution_count": null,
   "metadata": {},
   "outputs": [],
   "source": [
    "def start_listening(PORT):\n",
    "\tudp = socket.socket(socket.AF_INET, socket.SOCK_DGRAM)\n",
    "\torig = ('', int(PORT))\n",
    "\tudp.bind(orig)\n",
    "\twhile True:\n",
    "\t\tmessage, client = udp.recvfrom(1024)\n",
    "\n",
    "\tudp.close()"
   ]
  },
  {
   "cell_type": "code",
   "execution_count": null,
   "metadata": {},
   "outputs": [],
   "source": [
    "def send_message(HOST, PORT, message):\n",
    "    udp = socket.socket(socket.AF_INET, socket.SOCK_DGRAM)\n",
    "    dest = (HOST, int(PORT))\n",
    "    udp.sendto(message, dest)\n",
    "    udp.close()"
   ]
  },
  {
   "cell_type": "code",
   "execution_count": null,
   "metadata": {},
   "outputs": [],
   "source": [
    "start_listening(PORT)"
   ]
  },
  {
   "cell_type": "code",
   "execution_count": null,
   "metadata": {},
   "outputs": [],
   "source": [
    "send_message('127.0.0.1', PORT, \"teste\")"
   ]
  },
  {
   "cell_type": "code",
   "execution_count": null,
   "metadata": {},
   "outputs": [],
   "source": []
  }
 ],
 "metadata": {
  "kernelspec": {
   "display_name": "Python [conda env:redesP3]",
   "language": "python",
   "name": "conda-env-redesP3-py"
  },
  "language_info": {
   "codemirror_mode": {
    "name": "ipython",
    "version": 3
   },
   "file_extension": ".py",
   "mimetype": "text/x-python",
   "name": "python",
   "nbconvert_exporter": "python",
   "pygments_lexer": "ipython3",
   "version": "3.6.4"
  }
 },
 "nbformat": 4,
 "nbformat_minor": 2
}
