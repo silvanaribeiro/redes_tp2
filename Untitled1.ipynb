{
 "cells": [
  {
   "cell_type": "code",
   "execution_count": 21,
   "metadata": {},
   "outputs": [],
   "source": [
    "routing_table = {}"
   ]
  },
  {
   "cell_type": "code",
   "execution_count": 7,
   "metadata": {},
   "outputs": [],
   "source": [
    "def add_ve(ip, weight, routing_table):\n",
    "    routing_table[ip] = weight\n",
    "    return routing_table"
   ]
  },
  {
   "cell_type": "code",
   "execution_count": 8,
   "metadata": {},
   "outputs": [],
   "source": [
    "def del_ve(ip, routing_table):\n",
    "    return routing_table.pop(ip)"
   ]
  },
  {
   "cell_type": "code",
   "execution_count": 10,
   "metadata": {},
   "outputs": [
    {
     "name": "stdout",
     "output_type": "stream",
     "text": [
      "{'1.1.1.1': 10, '1.1.1.2': 11}\n"
     ]
    }
   ],
   "source": [
    "add_ve('1.1.1.1', 10, routing_table)\n",
    "add_ve('1.1.1.2', 11, routing_table)\n",
    "print(routing_table)"
   ]
  },
  {
   "cell_type": "code",
   "execution_count": 11,
   "metadata": {},
   "outputs": [
    {
     "name": "stdout",
     "output_type": "stream",
     "text": [
      "{'1.1.1.2': 11}\n"
     ]
    }
   ],
   "source": [
    "del_ve('1.1.1.1', routing_table)\n",
    "print(routing_table)"
   ]
  },
  {
   "cell_type": "code",
   "execution_count": 36,
   "metadata": {},
   "outputs": [],
   "source": [
    "def read_file(file_name, routing_table):\n",
    "    with open(file_name, \"r\") as f:\n",
    "        lines = f.readlines()\n",
    "        for line in lines:\n",
    "            command = line.replace('\\n', '')\n",
    "            commands = command.split(\" \")\n",
    "            print(commands)\n",
    "            if commands[0] != 'add':\n",
    "                print(\"Inavlid command was read in startup file:\", commands[0])\n",
    "            if len(commands) != 3:\n",
    "                print(\"Inavlid format was read in startup file:\", commands)\n",
    "            else:\n",
    "                add_ve(commands[1], commands[2], routing_table)"
   ]
  },
  {
   "cell_type": "code",
   "execution_count": 37,
   "metadata": {},
   "outputs": [
    {
     "name": "stdout",
     "output_type": "stream",
     "text": [
      "['add', \"'1.1.1.1'\", '10']\n",
      "['add', \"'1.1.1.3'\", '11']\n",
      "['add', \"'1.1.1.4'\", '12']\n",
      "{\"'1.1.1.1'\": '10', \"'1.1.1.3'\": '11', \"'1.1.1.4'\": '12'}\n"
     ]
    }
   ],
   "source": [
    "read_file('startup.txt', routing_table)\n",
    "print(routing_table)"
   ]
  },
  {
   "cell_type": "code",
   "execution_count": 41,
   "metadata": {},
   "outputs": [],
   "source": [
    "import json\n",
    "def encode_message(type, source, destination, last_info):\n",
    "\tif type is 'data':\n",
    "\t\treturn json.dumps({'type': type, 'source': source, 'destination': destination, 'payload': last_info})\n",
    "\telif type is 'update':\n",
    "\t\treturn json.dumps({'type': type, 'source': source, 'destination': destination, 'distances': last_info})\n",
    "\telif type is 'trace':\n",
    "\t\treturn json.dumps({'type': type, 'source': source, 'destination': destination, 'hops': last_info})"
   ]
  },
  {
   "cell_type": "code",
   "execution_count": 44,
   "metadata": {},
   "outputs": [],
   "source": [
    "import json\n",
    "import pprint\n",
    "def decode_message(message):\n",
    "\tdata = json.load(message)\n",
    "\t# Prints if it's data type message\n",
    "\tif data[\"type\"] is 'data':\n",
    "\t\tpprint(data)\n",
    "\treturn data"
   ]
  },
  {
   "cell_type": "code",
   "execution_count": 47,
   "metadata": {},
   "outputs": [
    {
     "name": "stdout",
     "output_type": "stream",
     "text": [
      "{\"type\": \"data\", \"source\": \"1.1.1.1\", \"destination\": \"1.1.1.2\", \"payload\": \"{\\\"destination\\\": \\\"127.0.1.2\\\", \\\"type\\\":\\\"trace\\\", ...}\"}\n"
     ]
    }
   ],
   "source": [
    "json_msg = encode_message('data', '1.1.1.1', '1.1.1.2', \"{\\\"destination\\\": \\\"127.0.1.2\\\", \\\"type\\\":\\\"trace\\\", ...}\")\n",
    "print(json_msg)"
   ]
  },
  {
   "cell_type": "code",
   "execution_count": 48,
   "metadata": {},
   "outputs": [
    {
     "ename": "AttributeError",
     "evalue": "'str' object has no attribute 'read'",
     "output_type": "error",
     "traceback": [
      "\u001b[1;31m---------------------------------------------------------------------------\u001b[0m",
      "\u001b[1;31mAttributeError\u001b[0m                            Traceback (most recent call last)",
      "\u001b[1;32m<ipython-input-48-ede89c1e1a9c>\u001b[0m in \u001b[0;36m<module>\u001b[1;34m()\u001b[0m\n\u001b[1;32m----> 1\u001b[1;33m \u001b[0mdecode_message\u001b[0m\u001b[1;33m(\u001b[0m\u001b[0mjson_msg\u001b[0m\u001b[1;33m)\u001b[0m\u001b[1;33m\u001b[0m\u001b[0m\n\u001b[0m",
      "\u001b[1;32m<ipython-input-44-c97609278aba>\u001b[0m in \u001b[0;36mdecode_message\u001b[1;34m(message)\u001b[0m\n\u001b[0;32m      2\u001b[0m \u001b[1;32mimport\u001b[0m \u001b[0mpprint\u001b[0m\u001b[1;33m\u001b[0m\u001b[0m\n\u001b[0;32m      3\u001b[0m \u001b[1;32mdef\u001b[0m \u001b[0mdecode_message\u001b[0m\u001b[1;33m(\u001b[0m\u001b[0mmessage\u001b[0m\u001b[1;33m)\u001b[0m\u001b[1;33m:\u001b[0m\u001b[1;33m\u001b[0m\u001b[0m\n\u001b[1;32m----> 4\u001b[1;33m         \u001b[0mdata\u001b[0m \u001b[1;33m=\u001b[0m \u001b[0mjson\u001b[0m\u001b[1;33m.\u001b[0m\u001b[0mload\u001b[0m\u001b[1;33m(\u001b[0m\u001b[0mmessage\u001b[0m\u001b[1;33m)\u001b[0m\u001b[1;33m\u001b[0m\u001b[0m\n\u001b[0m\u001b[0;32m      5\u001b[0m         \u001b[1;31m# Prints if it's data type message\u001b[0m\u001b[1;33m\u001b[0m\u001b[1;33m\u001b[0m\u001b[0m\n\u001b[0;32m      6\u001b[0m         \u001b[1;32mif\u001b[0m \u001b[0mdata\u001b[0m\u001b[1;33m[\u001b[0m\u001b[1;34m\"type\"\u001b[0m\u001b[1;33m]\u001b[0m \u001b[1;32mis\u001b[0m \u001b[1;34m'data'\u001b[0m\u001b[1;33m:\u001b[0m\u001b[1;33m\u001b[0m\u001b[0m\n",
      "\u001b[1;32m~\\Anaconda3\\envs\\redesP3\\lib\\json\\__init__.py\u001b[0m in \u001b[0;36mload\u001b[1;34m(fp, cls, object_hook, parse_float, parse_int, parse_constant, object_pairs_hook, **kw)\u001b[0m\n\u001b[0;32m    294\u001b[0m \u001b[1;33m\u001b[0m\u001b[0m\n\u001b[0;32m    295\u001b[0m     \"\"\"\n\u001b[1;32m--> 296\u001b[1;33m     return loads(fp.read(),\n\u001b[0m\u001b[0;32m    297\u001b[0m         \u001b[0mcls\u001b[0m\u001b[1;33m=\u001b[0m\u001b[0mcls\u001b[0m\u001b[1;33m,\u001b[0m \u001b[0mobject_hook\u001b[0m\u001b[1;33m=\u001b[0m\u001b[0mobject_hook\u001b[0m\u001b[1;33m,\u001b[0m\u001b[1;33m\u001b[0m\u001b[0m\n\u001b[0;32m    298\u001b[0m         \u001b[0mparse_float\u001b[0m\u001b[1;33m=\u001b[0m\u001b[0mparse_float\u001b[0m\u001b[1;33m,\u001b[0m \u001b[0mparse_int\u001b[0m\u001b[1;33m=\u001b[0m\u001b[0mparse_int\u001b[0m\u001b[1;33m,\u001b[0m\u001b[1;33m\u001b[0m\u001b[0m\n",
      "\u001b[1;31mAttributeError\u001b[0m: 'str' object has no attribute 'read'"
     ]
    }
   ],
   "source": [
    "decode_message(json_msg)"
   ]
  },
  {
   "cell_type": "code",
   "execution_count": null,
   "metadata": {},
   "outputs": [],
   "source": []
  }
 ],
 "metadata": {
  "kernelspec": {
   "display_name": "Python [conda env:redesP3]",
   "language": "python",
   "name": "conda-env-redesP3-py"
  },
  "language_info": {
   "codemirror_mode": {
    "name": "ipython",
    "version": 3
   },
   "file_extension": ".py",
   "mimetype": "text/x-python",
   "name": "python",
   "nbconvert_exporter": "python",
   "pygments_lexer": "ipython3",
   "version": "3.6.4"
  }
 },
 "nbformat": 4,
 "nbformat_minor": 2
}
