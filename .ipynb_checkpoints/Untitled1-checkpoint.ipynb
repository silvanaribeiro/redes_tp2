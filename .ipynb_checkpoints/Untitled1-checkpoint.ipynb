{
 "cells": [
  {
   "cell_type": "code",
   "execution_count": 21,
   "metadata": {},
   "outputs": [],
   "source": [
    "routing_table = {}"
   ]
  },
  {
   "cell_type": "code",
   "execution_count": 7,
   "metadata": {},
   "outputs": [],
   "source": [
    "def add_ve(ip, weight, routing_table):\n",
    "    routing_table[ip] = weight\n",
    "    return routing_table"
   ]
  },
  {
   "cell_type": "code",
   "execution_count": 8,
   "metadata": {},
   "outputs": [],
   "source": [
    "def del_ve(ip, routing_table):\n",
    "    return routing_table.pop(ip)"
   ]
  },
  {
   "cell_type": "code",
   "execution_count": 10,
   "metadata": {},
   "outputs": [
    {
     "name": "stdout",
     "output_type": "stream",
     "text": [
      "{'1.1.1.1': 10, '1.1.1.2': 11}\n"
     ]
    }
   ],
   "source": [
    "add_ve('1.1.1.1', 10, routing_table)\n",
    "add_ve('1.1.1.2', 11, routing_table)\n",
    "print(routing_table)"
   ]
  },
  {
   "cell_type": "code",
   "execution_count": 11,
   "metadata": {},
   "outputs": [
    {
     "name": "stdout",
     "output_type": "stream",
     "text": [
      "{'1.1.1.2': 11}\n"
     ]
    }
   ],
   "source": [
    "del_ve('1.1.1.1', routing_table)\n",
    "print(routing_table)"
   ]
  },
  {
   "cell_type": "code",
   "execution_count": 36,
   "metadata": {},
   "outputs": [],
   "source": [
    "def read_file(file_name, routing_table):\n",
    "    with open(file_name, \"r\") as f:\n",
    "        lines = f.readlines()\n",
    "        for line in lines:\n",
    "            command = line.replace('\\n', '')\n",
    "            commands = command.split(\" \")\n",
    "            print(commands)\n",
    "            if commands[0] != 'add':\n",
    "                print(\"Inavlid command was read in startup file:\", commands[0])\n",
    "            if len(commands) != 3:\n",
    "                print(\"Inavlid format was read in startup file:\", commands)\n",
    "            else:\n",
    "                add_ve(commands[1], commands[2], routing_table)"
   ]
  },
  {
   "cell_type": "code",
   "execution_count": 37,
   "metadata": {},
   "outputs": [
    {
     "name": "stdout",
     "output_type": "stream",
     "text": [
      "['add', \"'1.1.1.1'\", '10']\n",
      "['add', \"'1.1.1.3'\", '11']\n",
      "['add', \"'1.1.1.4'\", '12']\n",
      "{\"'1.1.1.1'\": '10', \"'1.1.1.3'\": '11', \"'1.1.1.4'\": '12'}\n"
     ]
    }
   ],
   "source": [
    "read_file('startup.txt', routing_table)\n",
    "print(routing_table)"
   ]
  },
  {
   "cell_type": "code",
   "execution_count": null,
   "metadata": {},
   "outputs": [],
   "source": []
  }
 ],
 "metadata": {
  "kernelspec": {
   "display_name": "Python [conda env:redesP3]",
   "language": "python",
   "name": "conda-env-redesP3-py"
  },
  "language_info": {
   "codemirror_mode": {
    "name": "ipython",
    "version": 3
   },
   "file_extension": ".py",
   "mimetype": "text/x-python",
   "name": "python",
   "nbconvert_exporter": "python",
   "pygments_lexer": "ipython3",
   "version": "3.6.4"
  }
 },
 "nbformat": 4,
 "nbformat_minor": 2
}
